{
 "cells": [
  {
   "cell_type": "markdown",
   "metadata": {},
   "source": [
    "# Import Things"
   ]
  },
  {
   "cell_type": "code",
   "execution_count": 10,
   "metadata": {},
   "outputs": [],
   "source": [
    "import pandas as pd\n",
    "import numpy as np\n",
    "import random\n",
    "from sklearn.model_selection import KFold\n",
    "from sklearn.linear_model import LinearRegression\n",
    "from sklearn.metrics import mean_squared_error\n",
    "pd.set_option('display.max_columns', None)\n",
    "random.seed(2021)"
   ]
  },
  {
   "cell_type": "markdown",
   "metadata": {},
   "source": [
    "# Get Data"
   ]
  },
  {
   "cell_type": "code",
   "execution_count": 11,
   "metadata": {},
   "outputs": [],
   "source": [
    "#Read CSV\n",
    "df = pd.read_csv(\"C:\\\\Users\\\\acer\\\\WhiteIceAnalytics\\\\25plus_per.csv\")"
   ]
  },
  {
   "cell_type": "code",
   "execution_count": 12,
   "metadata": {},
   "outputs": [],
   "source": [
    "#Split Data At 1955-56 Season\n",
    "pre56_df = df[df.SA == 0]\n",
    "post56_df = df[df.SA != 0]\n",
    "post56_df = post56_df.reset_index(drop = True)"
   ]
  },
  {
   "cell_type": "markdown",
   "metadata": {},
   "source": [
    "# K=50 Fold Cross Validation"
   ]
  },
  {
   "cell_type": "code",
   "execution_count": 13,
   "metadata": {},
   "outputs": [],
   "source": [
    "#Initialize Cross Validation\n",
    "X = post56_df['GAA']\n",
    "y = post56_df['Sv%']\n",
    "\n",
    "k = 50\n",
    "cv = KFold(n_splits = k, random_state = 0)\n",
    "lin_reg = LinearRegression()"
   ]
  },
  {
   "cell_type": "markdown",
   "metadata": {},
   "source": [
    "## Create Folds"
   ]
  },
  {
   "cell_type": "code",
   "execution_count": 28,
   "metadata": {},
   "outputs": [],
   "source": [
    "#Select Random Samples (49 0f size 45, 1 of size 44)\n",
    "nums = pd.DataFrame(range(0, len(post56_df)), index = range(0, len(post56_df)), columns = [\"Number\"])\n",
    "\n",
    "n1 = int(len(post56_df)/k)+1\n",
    "n2 = int(len(post56_df)/k)\n",
    "\n",
    "df_samps = [0]*50\n",
    "for i in range(0, 49):\n",
    "    df_samps[i] = nums['Number'].sample(n=n1, random_state=2021)\n",
    "    nums = nums.drop(df_samps[i])\n",
    "    \n",
    "df_samps[49] = nums['Number'].sample(n=n2, random_state=2021)\n",
    "nums = nums.drop(df_samps[49])"
   ]
  },
  {
   "cell_type": "code",
   "execution_count": 29,
   "metadata": {},
   "outputs": [],
   "source": [
    "#Initialize 50 Folds\n",
    "X_trains = [0]*50\n",
    "y_trains = [0]*50\n",
    "\n",
    "for i in range(0, len(df_samps)):\n",
    "    X_trains[i] = pd.DataFrame(data=df_samps[i])\n",
    "    X_trains[i]['GAA'] = ''\n",
    "    \n",
    "for i in range(0, len(df_samps)):\n",
    "    y_trains[i] = pd.DataFrame(data=df_samps[i])\n",
    "    y_trains[i]['Sv%'] = ''"
   ]
  },
  {
   "cell_type": "code",
   "execution_count": 30,
   "metadata": {},
   "outputs": [
    {
     "name": "stderr",
     "output_type": "stream",
     "text": [
      "<ipython-input-30-729bb7e145f6>:4: SettingWithCopyWarning: \n",
      "A value is trying to be set on a copy of a slice from a DataFrame\n",
      "\n",
      "See the caveats in the documentation: https://pandas.pydata.org/pandas-docs/stable/user_guide/indexing.html#returning-a-view-versus-a-copy\n",
      "  X_trains[j]['GAA'][i] = X[i]\n",
      "<ipython-input-30-729bb7e145f6>:8: SettingWithCopyWarning: \n",
      "A value is trying to be set on a copy of a slice from a DataFrame\n",
      "\n",
      "See the caveats in the documentation: https://pandas.pydata.org/pandas-docs/stable/user_guide/indexing.html#returning-a-view-versus-a-copy\n",
      "  y_trains[j]['Sv%'][i] = y[i]\n"
     ]
    }
   ],
   "source": [
    "#Input Data Into Folds\n",
    "for j in range(0, len(X_trains)):\n",
    "    for i in X_trains[j]['Number']:\n",
    "        X_trains[j]['GAA'][i] = X[i] \n",
    "        \n",
    "for j in range(0, len(y_trains)):\n",
    "    for i in y_trains[j]['Number']:\n",
    "        y_trains[j]['Sv%'][i] = y[i]"
   ]
  },
  {
   "cell_type": "code",
   "execution_count": 45,
   "metadata": {},
   "outputs": [],
   "source": [
    "#Turn X_trains Into DataFrames\n",
    "for i in range(0, len(X_trains)):\n",
    "    X_trains[i] = pd.DataFrame(data = X_trains[i])\n",
    "    \n",
    "#Turn y_trains Into DataFrames\n",
    "for i in range(0, len(y_trains)):\n",
    "    y_trains[i] = pd.DataFrame(data = y_trains[i])"
   ]
  },
  {
   "cell_type": "code",
   "execution_count": 52,
   "metadata": {},
   "outputs": [],
   "source": [
    "#Create 50 Folds\n",
    "X_fold0 = pd.concat([X_trains[1], X_trains[2], X_trains[3], X_trains[4], X_trains[5], X_trains[6], X_trains[7], X_trains[8], X_trains[9], X_trains[10], X_trains[11], X_trains[12], X_trains[13], X_trains[14], X_trains[15], X_trains[16], X_trains[17], X_trains[18], X_trains[19], X_trains[20], X_trains[21], X_trains[22], X_trains[23], X_trains[24], X_trains[25], X_trains[26], X_trains[27], X_trains[28], X_trains[29], X_trains[30], X_trains[31], X_trains[32], X_trains[33], X_trains[34], X_trains[35], X_trains[36], X_trains[37], X_trains[38], X_trains[39], X_trains[40], X_trains[41], X_trains[42], X_trains[43], X_trains[44], X_trains[45], X_trains[46], X_trains[47], X_trains[48], X_trains[49]])\n",
    "X_fold1 = pd.concat([X_trains[0], X_trains[2], X_trains[3], X_trains[4], X_trains[5], X_trains[6], X_trains[7], X_trains[8], X_trains[9], X_trains[10], X_trains[11], X_trains[12], X_trains[13], X_trains[14], X_trains[15], X_trains[16], X_trains[17], X_trains[18], X_trains[19], X_trains[20], X_trains[21], X_trains[22], X_trains[23], X_trains[24], X_trains[25], X_trains[26], X_trains[27], X_trains[28], X_trains[29], X_trains[30], X_trains[31], X_trains[32], X_trains[33], X_trains[34], X_trains[35], X_trains[36], X_trains[37], X_trains[38], X_trains[39], X_trains[40], X_trains[41], X_trains[42], X_trains[43], X_trains[44], X_trains[45], X_trains[46], X_trains[47], X_trains[48], X_trains[49]])\n",
    "X_fold2 = pd.concat([X_trains[0], X_trains[1], X_trains[3], X_trains[4], X_trains[5], X_trains[6], X_trains[7], X_trains[8], X_trains[9], X_trains[10], X_trains[11], X_trains[12], X_trains[13], X_trains[14], X_trains[15], X_trains[16], X_trains[17], X_trains[18], X_trains[19], X_trains[20], X_trains[21], X_trains[22], X_trains[23], X_trains[24], X_trains[25], X_trains[26], X_trains[27], X_trains[28], X_trains[29], X_trains[30], X_trains[31], X_trains[32], X_trains[33], X_trains[34], X_trains[35], X_trains[36], X_trains[37], X_trains[38], X_trains[39], X_trains[40], X_trains[41], X_trains[42], X_trains[43], X_trains[44], X_trains[45], X_trains[46], X_trains[47], X_trains[48], X_trains[49]])\n",
    "X_fold3 = pd.concat([X_trains[0], X_trains[1], X_trains[2], X_trains[4], X_trains[5], X_trains[6], X_trains[7], X_trains[8], X_trains[9], X_trains[10], X_trains[11], X_trains[12], X_trains[13], X_trains[14], X_trains[15], X_trains[16], X_trains[17], X_trains[18], X_trains[19], X_trains[20], X_trains[21], X_trains[22], X_trains[23], X_trains[24], X_trains[25], X_trains[26], X_trains[27], X_trains[28], X_trains[29], X_trains[30], X_trains[31], X_trains[32], X_trains[33], X_trains[34], X_trains[35], X_trains[36], X_trains[37], X_trains[38], X_trains[39], X_trains[40], X_trains[41], X_trains[42], X_trains[43], X_trains[44], X_trains[45], X_trains[46], X_trains[47], X_trains[48], X_trains[49]])\n",
    "X_fold4 = pd.concat([X_trains[0], X_trains[1], X_trains[2], X_trains[3], X_trains[5], X_trains[6], X_trains[7], X_trains[8], X_trains[9], X_trains[10], X_trains[11], X_trains[12], X_trains[13], X_trains[14], X_trains[15], X_trains[16], X_trains[17], X_trains[18], X_trains[19], X_trains[20], X_trains[21], X_trains[22], X_trains[23], X_trains[24], X_trains[25], X_trains[26], X_trains[27], X_trains[28], X_trains[29], X_trains[30], X_trains[31], X_trains[32], X_trains[33], X_trains[34], X_trains[35], X_trains[36], X_trains[37], X_trains[38], X_trains[39], X_trains[40], X_trains[41], X_trains[42], X_trains[43], X_trains[44], X_trains[45], X_trains[46], X_trains[47], X_trains[48], X_trains[49]])\n",
    "X_fold5 = pd.concat([X_trains[0], X_trains[1], X_trains[2], X_trains[3], X_trains[4], X_trains[6], X_trains[7], X_trains[8], X_trains[9], X_trains[10], X_trains[11], X_trains[12], X_trains[13], X_trains[14], X_trains[15], X_trains[16], X_trains[17], X_trains[18], X_trains[19], X_trains[20], X_trains[21], X_trains[22], X_trains[23], X_trains[24], X_trains[25], X_trains[26], X_trains[27], X_trains[28], X_trains[29], X_trains[30], X_trains[31], X_trains[32], X_trains[33], X_trains[34], X_trains[35], X_trains[36], X_trains[37], X_trains[38], X_trains[39], X_trains[40], X_trains[41], X_trains[42], X_trains[43], X_trains[44], X_trains[45], X_trains[46], X_trains[47], X_trains[48], X_trains[49]])\n",
    "X_fold6 = pd.concat([X_trains[0], X_trains[1], X_trains[2], X_trains[3], X_trains[4], X_trains[5], X_trains[7], X_trains[8], X_trains[9], X_trains[10], X_trains[11], X_trains[12], X_trains[13], X_trains[14], X_trains[15], X_trains[16], X_trains[17], X_trains[18], X_trains[19], X_trains[20], X_trains[21], X_trains[22], X_trains[23], X_trains[24], X_trains[25], X_trains[26], X_trains[27], X_trains[28], X_trains[29], X_trains[30], X_trains[31], X_trains[32], X_trains[33], X_trains[34], X_trains[35], X_trains[36], X_trains[37], X_trains[38], X_trains[39], X_trains[40], X_trains[41], X_trains[42], X_trains[43], X_trains[44], X_trains[45], X_trains[46], X_trains[47], X_trains[48], X_trains[49]])\n",
    "X_fold7 = pd.concat([X_trains[0], X_trains[1], X_trains[2], X_trains[3], X_trains[4], X_trains[5], X_trains[6], X_trains[8], X_trains[9], X_trains[10], X_trains[11], X_trains[12], X_trains[13], X_trains[14], X_trains[15], X_trains[16], X_trains[17], X_trains[18], X_trains[19], X_trains[20], X_trains[21], X_trains[22], X_trains[23], X_trains[24], X_trains[25], X_trains[26], X_trains[27], X_trains[28], X_trains[29], X_trains[30], X_trains[31], X_trains[32], X_trains[33], X_trains[34], X_trains[35], X_trains[36], X_trains[37], X_trains[38], X_trains[39], X_trains[40], X_trains[41], X_trains[42], X_trains[43], X_trains[44], X_trains[45], X_trains[46], X_trains[47], X_trains[48], X_trains[49]])\n",
    "X_fold8 = pd.concat([X_trains[0], X_trains[1], X_trains[2], X_trains[3], X_trains[4], X_trains[5], X_trains[6], X_trains[7], X_trains[9], X_trains[10], X_trains[11], X_trains[12], X_trains[13], X_trains[14], X_trains[15], X_trains[16], X_trains[17], X_trains[18], X_trains[19], X_trains[20], X_trains[21], X_trains[22], X_trains[23], X_trains[24], X_trains[25], X_trains[26], X_trains[27], X_trains[28], X_trains[29], X_trains[30], X_trains[31], X_trains[32], X_trains[33], X_trains[34], X_trains[35], X_trains[36], X_trains[37], X_trains[38], X_trains[39], X_trains[40], X_trains[41], X_trains[42], X_trains[43], X_trains[44], X_trains[45], X_trains[46], X_trains[47], X_trains[48], X_trains[49]])\n",
    "X_fold9 = pd.concat([X_trains[0], X_trains[1], X_trains[2], X_trains[3], X_trains[4], X_trains[5], X_trains[6], X_trains[7], X_trains[8], X_trains[10], X_trains[11], X_trains[12], X_trains[13], X_trains[14], X_trains[15], X_trains[16], X_trains[17], X_trains[18], X_trains[19], X_trains[20], X_trains[21], X_trains[22], X_trains[23], X_trains[24], X_trains[25], X_trains[26], X_trains[27], X_trains[28], X_trains[29], X_trains[30], X_trains[31], X_trains[32], X_trains[33], X_trains[34], X_trains[35], X_trains[36], X_trains[37], X_trains[38], X_trains[39], X_trains[40], X_trains[41], X_trains[42], X_trains[43], X_trains[44], X_trains[45], X_trains[46], X_trains[47], X_trains[48], X_trains[49]])\n",
    "X_fold10 = pd.concat([X_trains[0], X_trains[1], X_trains[2], X_trains[3], X_trains[4], X_trains[5], X_trains[6], X_trains[7], X_trains[8], X_trains[9], X_trains[11], X_trains[12], X_trains[13], X_trains[14], X_trains[15], X_trains[16], X_trains[17], X_trains[18], X_trains[19], X_trains[20], X_trains[21], X_trains[22], X_trains[23], X_trains[24], X_trains[25], X_trains[26], X_trains[27], X_trains[28], X_trains[29], X_trains[30], X_trains[31], X_trains[32], X_trains[33], X_trains[34], X_trains[35], X_trains[36], X_trains[37], X_trains[38], X_trains[39], X_trains[40], X_trains[41], X_trains[42], X_trains[43], X_trains[44], X_trains[45], X_trains[46], X_trains[47], X_trains[48], X_trains[49]])\n",
    "X_fold11 = pd.concat([X_trains[0], X_trains[1], X_trains[2], X_trains[3], X_trains[4], X_trains[5], X_trains[6], X_trains[7], X_trains[8], X_trains[9], X_trains[10], X_trains[12], X_trains[13], X_trains[14], X_trains[15], X_trains[16], X_trains[17], X_trains[18], X_trains[19], X_trains[20], X_trains[21], X_trains[22], X_trains[23], X_trains[24], X_trains[25], X_trains[26], X_trains[27], X_trains[28], X_trains[29], X_trains[30], X_trains[31], X_trains[32], X_trains[33], X_trains[34], X_trains[35], X_trains[36], X_trains[37], X_trains[38], X_trains[39], X_trains[40], X_trains[41], X_trains[42], X_trains[43], X_trains[44], X_trains[45], X_trains[46], X_trains[47], X_trains[48], X_trains[49]])\n",
    "X_fold12 = pd.concat([X_trains[0], X_trains[1], X_trains[2], X_trains[3], X_trains[4], X_trains[5], X_trains[6], X_trains[7], X_trains[8], X_trains[9], X_trains[10], X_trains[11], X_trains[13], X_trains[14], X_trains[15], X_trains[16], X_trains[17], X_trains[18], X_trains[19], X_trains[20], X_trains[21], X_trains[22], X_trains[23], X_trains[24], X_trains[25], X_trains[26], X_trains[27], X_trains[28], X_trains[29], X_trains[30], X_trains[31], X_trains[32], X_trains[33], X_trains[34], X_trains[35], X_trains[36], X_trains[37], X_trains[38], X_trains[39], X_trains[40], X_trains[41], X_trains[42], X_trains[43], X_trains[44], X_trains[45], X_trains[46], X_trains[47], X_trains[48], X_trains[49]])\n",
    "X_fold13 = pd.concat([X_trains[0], X_trains[1], X_trains[2], X_trains[3], X_trains[4], X_trains[5], X_trains[6], X_trains[7], X_trains[8], X_trains[9], X_trains[10], X_trains[11], X_trains[12], X_trains[14], X_trains[15], X_trains[16], X_trains[17], X_trains[18], X_trains[19], X_trains[20], X_trains[21], X_trains[22], X_trains[23], X_trains[24], X_trains[25], X_trains[26], X_trains[27], X_trains[28], X_trains[29], X_trains[30], X_trains[31], X_trains[32], X_trains[33], X_trains[34], X_trains[35], X_trains[36], X_trains[37], X_trains[38], X_trains[39], X_trains[40], X_trains[41], X_trains[42], X_trains[43], X_trains[44], X_trains[45], X_trains[46], X_trains[47], X_trains[48], X_trains[49]])\n",
    "X_fold14 = pd.concat([X_trains[0], X_trains[1], X_trains[2], X_trains[3], X_trains[4], X_trains[5], X_trains[6], X_trains[7], X_trains[8], X_trains[9], X_trains[10], X_trains[11], X_trains[12], X_trains[13], X_trains[15], X_trains[16], X_trains[17], X_trains[18], X_trains[19], X_trains[20], X_trains[21], X_trains[22], X_trains[23], X_trains[24], X_trains[25], X_trains[26], X_trains[27], X_trains[28], X_trains[29], X_trains[30], X_trains[31], X_trains[32], X_trains[33], X_trains[34], X_trains[35], X_trains[36], X_trains[37], X_trains[38], X_trains[39], X_trains[40], X_trains[41], X_trains[42], X_trains[43], X_trains[44], X_trains[45], X_trains[46], X_trains[47], X_trains[48], X_trains[49]])\n",
    "X_fold15 = pd.concat([X_trains[0], X_trains[1], X_trains[2], X_trains[3], X_trains[4], X_trains[5], X_trains[6], X_trains[7], X_trains[8], X_trains[9], X_trains[10], X_trains[11], X_trains[12], X_trains[13], X_trains[14], X_trains[16], X_trains[17], X_trains[18], X_trains[19], X_trains[20], X_trains[21], X_trains[22], X_trains[23], X_trains[24], X_trains[25], X_trains[26], X_trains[27], X_trains[28], X_trains[29], X_trains[30], X_trains[31], X_trains[32], X_trains[33], X_trains[34], X_trains[35], X_trains[36], X_trains[37], X_trains[38], X_trains[39], X_trains[40], X_trains[41], X_trains[42], X_trains[43], X_trains[44], X_trains[45], X_trains[46], X_trains[47], X_trains[48], X_trains[49]])\n",
    "X_fold16 = pd.concat([X_trains[0], X_trains[1], X_trains[2], X_trains[3], X_trains[4], X_trains[5], X_trains[6], X_trains[7], X_trains[8], X_trains[9], X_trains[10], X_trains[11], X_trains[12], X_trains[13], X_trains[14], X_trains[15], X_trains[17], X_trains[18], X_trains[19], X_trains[20], X_trains[21], X_trains[22], X_trains[23], X_trains[24], X_trains[25], X_trains[26], X_trains[27], X_trains[28], X_trains[29], X_trains[30], X_trains[31], X_trains[32], X_trains[33], X_trains[34], X_trains[35], X_trains[36], X_trains[37], X_trains[38], X_trains[39], X_trains[40], X_trains[41], X_trains[42], X_trains[43], X_trains[44], X_trains[45], X_trains[46], X_trains[47], X_trains[48], X_trains[49]])\n",
    "X_fold17 = pd.concat([X_trains[0], X_trains[1], X_trains[2], X_trains[3], X_trains[4], X_trains[5], X_trains[6], X_trains[7], X_trains[8], X_trains[9], X_trains[10], X_trains[11], X_trains[12], X_trains[13], X_trains[14], X_trains[15], X_trains[16], X_trains[18], X_trains[19], X_trains[20], X_trains[21], X_trains[22], X_trains[23], X_trains[24], X_trains[25], X_trains[26], X_trains[27], X_trains[28], X_trains[29], X_trains[30], X_trains[31], X_trains[32], X_trains[33], X_trains[34], X_trains[35], X_trains[36], X_trains[37], X_trains[38], X_trains[39], X_trains[40], X_trains[41], X_trains[42], X_trains[43], X_trains[44], X_trains[45], X_trains[46], X_trains[47], X_trains[48], X_trains[49]])\n",
    "X_fold18 = pd.concat([X_trains[0], X_trains[1], X_trains[2], X_trains[3], X_trains[4], X_trains[5], X_trains[6], X_trains[7], X_trains[8], X_trains[9], X_trains[10], X_trains[11], X_trains[12], X_trains[13], X_trains[14], X_trains[15], X_trains[16], X_trains[17], X_trains[19], X_trains[20], X_trains[21], X_trains[22], X_trains[23], X_trains[24], X_trains[25], X_trains[26], X_trains[27], X_trains[28], X_trains[29], X_trains[30], X_trains[31], X_trains[32], X_trains[33], X_trains[34], X_trains[35], X_trains[36], X_trains[37], X_trains[38], X_trains[39], X_trains[40], X_trains[41], X_trains[42], X_trains[43], X_trains[44], X_trains[45], X_trains[46], X_trains[47], X_trains[48], X_trains[49]])\n",
    "X_fold19 = pd.concat([X_trains[0], X_trains[1], X_trains[2], X_trains[3], X_trains[4], X_trains[5], X_trains[6], X_trains[7], X_trains[8], X_trains[9], X_trains[10], X_trains[11], X_trains[12], X_trains[13], X_trains[14], X_trains[15], X_trains[16], X_trains[17], X_trains[18], X_trains[20], X_trains[21], X_trains[22], X_trains[23], X_trains[24], X_trains[25], X_trains[26], X_trains[27], X_trains[28], X_trains[29], X_trains[30], X_trains[31], X_trains[32], X_trains[33], X_trains[34], X_trains[35], X_trains[36], X_trains[37], X_trains[38], X_trains[39], X_trains[40], X_trains[41], X_trains[42], X_trains[43], X_trains[44], X_trains[45], X_trains[46], X_trains[47], X_trains[48], X_trains[49]])\n",
    "X_fold20 = pd.concat([X_trains[0], X_trains[1], X_trains[2], X_trains[3], X_trains[4], X_trains[5], X_trains[6], X_trains[7], X_trains[8], X_trains[9], X_trains[10], X_trains[11], X_trains[12], X_trains[13], X_trains[14], X_trains[15], X_trains[16], X_trains[17], X_trains[18], X_trains[19], X_trains[21], X_trains[22], X_trains[23], X_trains[24], X_trains[25], X_trains[26], X_trains[27], X_trains[28], X_trains[29], X_trains[30], X_trains[31], X_trains[32], X_trains[33], X_trains[34], X_trains[35], X_trains[36], X_trains[37], X_trains[38], X_trains[39], X_trains[40], X_trains[41], X_trains[42], X_trains[43], X_trains[44], X_trains[45], X_trains[46], X_trains[47], X_trains[48], X_trains[49]])\n",
    "X_fold21 = pd.concat([X_trains[0], X_trains[1], X_trains[2], X_trains[3], X_trains[4], X_trains[5], X_trains[6], X_trains[7], X_trains[8], X_trains[9], X_trains[10], X_trains[11], X_trains[12], X_trains[13], X_trains[14], X_trains[15], X_trains[16], X_trains[17], X_trains[18], X_trains[19], X_trains[20], X_trains[22], X_trains[23], X_trains[24], X_trains[25], X_trains[26], X_trains[27], X_trains[28], X_trains[29], X_trains[30], X_trains[31], X_trains[32], X_trains[33], X_trains[34], X_trains[35], X_trains[36], X_trains[37], X_trains[38], X_trains[39], X_trains[40], X_trains[41], X_trains[42], X_trains[43], X_trains[44], X_trains[45], X_trains[46], X_trains[47], X_trains[48], X_trains[49]])\n",
    "X_fold22 = pd.concat([X_trains[0], X_trains[1], X_trains[2], X_trains[3], X_trains[4], X_trains[5], X_trains[6], X_trains[7], X_trains[8], X_trains[9], X_trains[10], X_trains[11], X_trains[12], X_trains[13], X_trains[14], X_trains[15], X_trains[16], X_trains[17], X_trains[18], X_trains[19], X_trains[20], X_trains[21], X_trains[23], X_trains[24], X_trains[25], X_trains[26], X_trains[27], X_trains[28], X_trains[29], X_trains[30], X_trains[31], X_trains[32], X_trains[33], X_trains[34], X_trains[35], X_trains[36], X_trains[37], X_trains[38], X_trains[39], X_trains[40], X_trains[41], X_trains[42], X_trains[43], X_trains[44], X_trains[45], X_trains[46], X_trains[47], X_trains[48], X_trains[49]])\n",
    "X_fold23 = pd.concat([X_trains[0], X_trains[1], X_trains[2], X_trains[3], X_trains[4], X_trains[5], X_trains[6], X_trains[7], X_trains[8], X_trains[9], X_trains[10], X_trains[11], X_trains[12], X_trains[13], X_trains[14], X_trains[15], X_trains[16], X_trains[17], X_trains[18], X_trains[19], X_trains[20], X_trains[21], X_trains[22], X_trains[24], X_trains[25], X_trains[26], X_trains[27], X_trains[28], X_trains[29], X_trains[30], X_trains[31], X_trains[32], X_trains[33], X_trains[34], X_trains[35], X_trains[36], X_trains[37], X_trains[38], X_trains[39], X_trains[40], X_trains[41], X_trains[42], X_trains[43], X_trains[44], X_trains[45], X_trains[46], X_trains[47], X_trains[48], X_trains[49]])\n",
    "X_fold24 = pd.concat([X_trains[0], X_trains[1], X_trains[2], X_trains[3], X_trains[4], X_trains[5], X_trains[6], X_trains[7], X_trains[8], X_trains[9], X_trains[10], X_trains[11], X_trains[12], X_trains[13], X_trains[14], X_trains[15], X_trains[16], X_trains[17], X_trains[18], X_trains[19], X_trains[20], X_trains[21], X_trains[22], X_trains[23], X_trains[25], X_trains[26], X_trains[27], X_trains[28], X_trains[29], X_trains[30], X_trains[31], X_trains[32], X_trains[33], X_trains[34], X_trains[35], X_trains[36], X_trains[37], X_trains[38], X_trains[39], X_trains[40], X_trains[41], X_trains[42], X_trains[43], X_trains[44], X_trains[45], X_trains[46], X_trains[47], X_trains[48], X_trains[49]])\n",
    "X_fold25 = pd.concat([X_trains[0], X_trains[1], X_trains[2], X_trains[3], X_trains[4], X_trains[5], X_trains[6], X_trains[7], X_trains[8], X_trains[9], X_trains[10], X_trains[11], X_trains[12], X_trains[13], X_trains[14], X_trains[15], X_trains[16], X_trains[17], X_trains[18], X_trains[19], X_trains[20], X_trains[21], X_trains[22], X_trains[23], X_trains[24], X_trains[26], X_trains[27], X_trains[28], X_trains[29], X_trains[30], X_trains[31], X_trains[32], X_trains[33], X_trains[34], X_trains[35], X_trains[36], X_trains[37], X_trains[38], X_trains[39], X_trains[40], X_trains[41], X_trains[42], X_trains[43], X_trains[44], X_trains[45], X_trains[46], X_trains[47], X_trains[48], X_trains[49]])\n",
    "X_fold26 = pd.concat([X_trains[0], X_trains[1], X_trains[2], X_trains[3], X_trains[4], X_trains[5], X_trains[6], X_trains[7], X_trains[8], X_trains[9], X_trains[10], X_trains[11], X_trains[12], X_trains[13], X_trains[14], X_trains[15], X_trains[16], X_trains[17], X_trains[18], X_trains[19], X_trains[20], X_trains[21], X_trains[22], X_trains[23], X_trains[24], X_trains[25], X_trains[27], X_trains[28], X_trains[29], X_trains[30], X_trains[31], X_trains[32], X_trains[33], X_trains[34], X_trains[35], X_trains[36], X_trains[37], X_trains[38], X_trains[39], X_trains[40], X_trains[41], X_trains[42], X_trains[43], X_trains[44], X_trains[45], X_trains[46], X_trains[47], X_trains[48], X_trains[49]])\n",
    "X_fold27 = pd.concat([X_trains[0], X_trains[1], X_trains[2], X_trains[3], X_trains[4], X_trains[5], X_trains[6], X_trains[7], X_trains[8], X_trains[9], X_trains[10], X_trains[11], X_trains[12], X_trains[13], X_trains[14], X_trains[15], X_trains[16], X_trains[17], X_trains[18], X_trains[19], X_trains[20], X_trains[21], X_trains[22], X_trains[23], X_trains[24], X_trains[25], X_trains[26], X_trains[28], X_trains[29], X_trains[30], X_trains[31], X_trains[32], X_trains[33], X_trains[34], X_trains[35], X_trains[36], X_trains[37], X_trains[38], X_trains[39], X_trains[40], X_trains[41], X_trains[42], X_trains[43], X_trains[44], X_trains[45], X_trains[46], X_trains[47], X_trains[48], X_trains[49]])\n",
    "X_fold28 = pd.concat([X_trains[0], X_trains[1], X_trains[2], X_trains[3], X_trains[4], X_trains[5], X_trains[6], X_trains[7], X_trains[8], X_trains[9], X_trains[10], X_trains[11], X_trains[12], X_trains[13], X_trains[14], X_trains[15], X_trains[16], X_trains[17], X_trains[18], X_trains[19], X_trains[20], X_trains[21], X_trains[22], X_trains[23], X_trains[24], X_trains[25], X_trains[26], X_trains[27], X_trains[29], X_trains[30], X_trains[31], X_trains[32], X_trains[33], X_trains[34], X_trains[35], X_trains[36], X_trains[37], X_trains[38], X_trains[39], X_trains[40], X_trains[41], X_trains[42], X_trains[43], X_trains[44], X_trains[45], X_trains[46], X_trains[47], X_trains[48], X_trains[49]])\n",
    "X_fold29 = pd.concat([X_trains[0], X_trains[1], X_trains[2], X_trains[3], X_trains[4], X_trains[5], X_trains[6], X_trains[7], X_trains[8], X_trains[9], X_trains[10], X_trains[11], X_trains[12], X_trains[13], X_trains[14], X_trains[15], X_trains[16], X_trains[17], X_trains[18], X_trains[19], X_trains[20], X_trains[21], X_trains[22], X_trains[23], X_trains[24], X_trains[25], X_trains[26], X_trains[27], X_trains[28], X_trains[30], X_trains[31], X_trains[32], X_trains[33], X_trains[34], X_trains[35], X_trains[36], X_trains[37], X_trains[38], X_trains[39], X_trains[40], X_trains[41], X_trains[42], X_trains[43], X_trains[44], X_trains[45], X_trains[46], X_trains[47], X_trains[48], X_trains[49]])\n",
    "X_fold30 = pd.concat([X_trains[0], X_trains[1], X_trains[2], X_trains[3], X_trains[4], X_trains[5], X_trains[6], X_trains[7], X_trains[8], X_trains[9], X_trains[10], X_trains[11], X_trains[12], X_trains[13], X_trains[14], X_trains[15], X_trains[16], X_trains[17], X_trains[18], X_trains[19], X_trains[20], X_trains[21], X_trains[22], X_trains[23], X_trains[24], X_trains[25], X_trains[26], X_trains[27], X_trains[28], X_trains[29], X_trains[31], X_trains[32], X_trains[33], X_trains[34], X_trains[35], X_trains[36], X_trains[37], X_trains[38], X_trains[39], X_trains[40], X_trains[41], X_trains[42], X_trains[43], X_trains[44], X_trains[45], X_trains[46], X_trains[47], X_trains[48], X_trains[49]])\n",
    "X_fold31 = pd.concat([X_trains[0], X_trains[1], X_trains[2], X_trains[3], X_trains[4], X_trains[5], X_trains[6], X_trains[7], X_trains[8], X_trains[9], X_trains[10], X_trains[11], X_trains[12], X_trains[13], X_trains[14], X_trains[15], X_trains[16], X_trains[17], X_trains[18], X_trains[19], X_trains[20], X_trains[21], X_trains[22], X_trains[23], X_trains[24], X_trains[25], X_trains[26], X_trains[27], X_trains[28], X_trains[29], X_trains[30], X_trains[32], X_trains[33], X_trains[34], X_trains[35], X_trains[36], X_trains[37], X_trains[38], X_trains[39], X_trains[40], X_trains[41], X_trains[42], X_trains[43], X_trains[44], X_trains[45], X_trains[46], X_trains[47], X_trains[48], X_trains[49]])\n",
    "X_fold32 = pd.concat([X_trains[0], X_trains[1], X_trains[2], X_trains[3], X_trains[4], X_trains[5], X_trains[6], X_trains[7], X_trains[8], X_trains[9], X_trains[10], X_trains[11], X_trains[12], X_trains[13], X_trains[14], X_trains[15], X_trains[16], X_trains[17], X_trains[18], X_trains[19], X_trains[20], X_trains[21], X_trains[22], X_trains[23], X_trains[24], X_trains[25], X_trains[26], X_trains[27], X_trains[28], X_trains[29], X_trains[30], X_trains[31], X_trains[33], X_trains[34], X_trains[35], X_trains[36], X_trains[37], X_trains[38], X_trains[39], X_trains[40], X_trains[41], X_trains[42], X_trains[43], X_trains[44], X_trains[45], X_trains[46], X_trains[47], X_trains[48], X_trains[49]])\n",
    "X_fold33 = pd.concat([X_trains[0], X_trains[1], X_trains[2], X_trains[3], X_trains[4], X_trains[5], X_trains[6], X_trains[7], X_trains[8], X_trains[9], X_trains[10], X_trains[11], X_trains[12], X_trains[13], X_trains[14], X_trains[15], X_trains[16], X_trains[17], X_trains[18], X_trains[19], X_trains[20], X_trains[21], X_trains[22], X_trains[23], X_trains[24], X_trains[25], X_trains[26], X_trains[27], X_trains[28], X_trains[29], X_trains[30], X_trains[31], X_trains[32], X_trains[34], X_trains[35], X_trains[36], X_trains[37], X_trains[38], X_trains[39], X_trains[40], X_trains[41], X_trains[42], X_trains[43], X_trains[44], X_trains[45], X_trains[46], X_trains[47], X_trains[48], X_trains[49]])\n",
    "X_fold34 = pd.concat([X_trains[0], X_trains[1], X_trains[2], X_trains[3], X_trains[4], X_trains[5], X_trains[6], X_trains[7], X_trains[8], X_trains[9], X_trains[10], X_trains[11], X_trains[12], X_trains[13], X_trains[14], X_trains[15], X_trains[16], X_trains[17], X_trains[18], X_trains[19], X_trains[20], X_trains[21], X_trains[22], X_trains[23], X_trains[24], X_trains[25], X_trains[26], X_trains[27], X_trains[28], X_trains[29], X_trains[30], X_trains[31], X_trains[32], X_trains[33], X_trains[35], X_trains[36], X_trains[37], X_trains[38], X_trains[39], X_trains[40], X_trains[41], X_trains[42], X_trains[43], X_trains[44], X_trains[45], X_trains[46], X_trains[47], X_trains[48], X_trains[49]])\n",
    "X_fold35 = pd.concat([X_trains[0], X_trains[1], X_trains[2], X_trains[3], X_trains[4], X_trains[5], X_trains[6], X_trains[7], X_trains[8], X_trains[9], X_trains[10], X_trains[11], X_trains[12], X_trains[13], X_trains[14], X_trains[15], X_trains[16], X_trains[17], X_trains[18], X_trains[19], X_trains[20], X_trains[21], X_trains[22], X_trains[23], X_trains[24], X_trains[25], X_trains[26], X_trains[27], X_trains[28], X_trains[29], X_trains[30], X_trains[31], X_trains[32], X_trains[33], X_trains[34], X_trains[36], X_trains[37], X_trains[38], X_trains[39], X_trains[40], X_trains[41], X_trains[42], X_trains[43], X_trains[44], X_trains[45], X_trains[46], X_trains[47], X_trains[48], X_trains[49]])\n",
    "X_fold36 = pd.concat([X_trains[0], X_trains[1], X_trains[2], X_trains[3], X_trains[4], X_trains[5], X_trains[6], X_trains[7], X_trains[8], X_trains[9], X_trains[10], X_trains[11], X_trains[12], X_trains[13], X_trains[14], X_trains[15], X_trains[16], X_trains[17], X_trains[18], X_trains[19], X_trains[20], X_trains[21], X_trains[22], X_trains[23], X_trains[24], X_trains[25], X_trains[26], X_trains[27], X_trains[28], X_trains[29], X_trains[30], X_trains[31], X_trains[32], X_trains[33], X_trains[34], X_trains[35], X_trains[37], X_trains[38], X_trains[39], X_trains[40], X_trains[41], X_trains[42], X_trains[43], X_trains[44], X_trains[45], X_trains[46], X_trains[47], X_trains[48], X_trains[49]])\n",
    "X_fold37 = pd.concat([X_trains[0], X_trains[1], X_trains[2], X_trains[3], X_trains[4], X_trains[5], X_trains[6], X_trains[7], X_trains[8], X_trains[9], X_trains[10], X_trains[11], X_trains[12], X_trains[13], X_trains[14], X_trains[15], X_trains[16], X_trains[17], X_trains[18], X_trains[19], X_trains[20], X_trains[21], X_trains[22], X_trains[23], X_trains[24], X_trains[25], X_trains[26], X_trains[27], X_trains[28], X_trains[29], X_trains[30], X_trains[31], X_trains[32], X_trains[33], X_trains[34], X_trains[35], X_trains[36], X_trains[38], X_trains[39], X_trains[40], X_trains[41], X_trains[42], X_trains[43], X_trains[44], X_trains[45], X_trains[46], X_trains[47], X_trains[48], X_trains[49]])\n",
    "X_fold38 = pd.concat([X_trains[0], X_trains[1], X_trains[2], X_trains[3], X_trains[4], X_trains[5], X_trains[6], X_trains[7], X_trains[8], X_trains[9], X_trains[10], X_trains[11], X_trains[12], X_trains[13], X_trains[14], X_trains[15], X_trains[16], X_trains[17], X_trains[18], X_trains[19], X_trains[20], X_trains[21], X_trains[22], X_trains[23], X_trains[24], X_trains[25], X_trains[26], X_trains[27], X_trains[28], X_trains[29], X_trains[30], X_trains[31], X_trains[32], X_trains[33], X_trains[34], X_trains[35], X_trains[36], X_trains[37], X_trains[39], X_trains[40], X_trains[41], X_trains[42], X_trains[43], X_trains[44], X_trains[45], X_trains[46], X_trains[47], X_trains[48], X_trains[49]])\n",
    "X_fold39 = pd.concat([X_trains[0], X_trains[1], X_trains[2], X_trains[3], X_trains[4], X_trains[5], X_trains[6], X_trains[7], X_trains[8], X_trains[9], X_trains[10], X_trains[11], X_trains[12], X_trains[13], X_trains[14], X_trains[15], X_trains[16], X_trains[17], X_trains[18], X_trains[19], X_trains[20], X_trains[21], X_trains[22], X_trains[23], X_trains[24], X_trains[25], X_trains[26], X_trains[27], X_trains[28], X_trains[29], X_trains[30], X_trains[31], X_trains[32], X_trains[33], X_trains[34], X_trains[35], X_trains[36], X_trains[37], X_trains[38], X_trains[40], X_trains[41], X_trains[42], X_trains[43], X_trains[44], X_trains[45], X_trains[46], X_trains[47], X_trains[48], X_trains[49]])\n",
    "X_fold40 = pd.concat([X_trains[0], X_trains[1], X_trains[2], X_trains[3], X_trains[4], X_trains[5], X_trains[6], X_trains[7], X_trains[8], X_trains[9], X_trains[10], X_trains[11], X_trains[12], X_trains[13], X_trains[14], X_trains[15], X_trains[16], X_trains[17], X_trains[18], X_trains[19], X_trains[20], X_trains[21], X_trains[22], X_trains[23], X_trains[24], X_trains[25], X_trains[26], X_trains[27], X_trains[28], X_trains[29], X_trains[30], X_trains[31], X_trains[32], X_trains[33], X_trains[34], X_trains[35], X_trains[36], X_trains[37], X_trains[38], X_trains[39], X_trains[41], X_trains[42], X_trains[43], X_trains[44], X_trains[45], X_trains[46], X_trains[47], X_trains[48], X_trains[49]])\n",
    "X_fold41 = pd.concat([X_trains[0], X_trains[1], X_trains[2], X_trains[3], X_trains[4], X_trains[5], X_trains[6], X_trains[7], X_trains[8], X_trains[9], X_trains[10], X_trains[11], X_trains[12], X_trains[13], X_trains[14], X_trains[15], X_trains[16], X_trains[17], X_trains[18], X_trains[19], X_trains[20], X_trains[21], X_trains[22], X_trains[23], X_trains[24], X_trains[25], X_trains[26], X_trains[27], X_trains[28], X_trains[29], X_trains[30], X_trains[31], X_trains[32], X_trains[33], X_trains[34], X_trains[35], X_trains[36], X_trains[37], X_trains[38], X_trains[39], X_trains[40], X_trains[42], X_trains[43], X_trains[44], X_trains[45], X_trains[46], X_trains[47], X_trains[48], X_trains[49]])\n",
    "X_fold42 = pd.concat([X_trains[0], X_trains[1], X_trains[2], X_trains[3], X_trains[4], X_trains[5], X_trains[6], X_trains[7], X_trains[8], X_trains[9], X_trains[10], X_trains[11], X_trains[12], X_trains[13], X_trains[14], X_trains[15], X_trains[16], X_trains[17], X_trains[18], X_trains[19], X_trains[20], X_trains[21], X_trains[22], X_trains[23], X_trains[24], X_trains[25], X_trains[26], X_trains[27], X_trains[28], X_trains[29], X_trains[30], X_trains[31], X_trains[32], X_trains[33], X_trains[34], X_trains[35], X_trains[36], X_trains[37], X_trains[38], X_trains[39], X_trains[40], X_trains[41], X_trains[43], X_trains[44], X_trains[45], X_trains[46], X_trains[47], X_trains[48], X_trains[49]])\n",
    "X_fold43 = pd.concat([X_trains[0], X_trains[1], X_trains[2], X_trains[3], X_trains[4], X_trains[5], X_trains[6], X_trains[7], X_trains[8], X_trains[9], X_trains[10], X_trains[11], X_trains[12], X_trains[13], X_trains[14], X_trains[15], X_trains[16], X_trains[17], X_trains[18], X_trains[19], X_trains[20], X_trains[21], X_trains[22], X_trains[23], X_trains[24], X_trains[25], X_trains[26], X_trains[27], X_trains[28], X_trains[29], X_trains[30], X_trains[31], X_trains[32], X_trains[33], X_trains[34], X_trains[35], X_trains[36], X_trains[37], X_trains[38], X_trains[39], X_trains[40], X_trains[41], X_trains[42], X_trains[44], X_trains[45], X_trains[46], X_trains[47], X_trains[48], X_trains[49]])\n",
    "X_fold44 = pd.concat([X_trains[0], X_trains[1], X_trains[2], X_trains[3], X_trains[4], X_trains[5], X_trains[6], X_trains[7], X_trains[8], X_trains[9], X_trains[10], X_trains[11], X_trains[12], X_trains[13], X_trains[14], X_trains[15], X_trains[16], X_trains[17], X_trains[18], X_trains[19], X_trains[20], X_trains[21], X_trains[22], X_trains[23], X_trains[24], X_trains[25], X_trains[26], X_trains[27], X_trains[28], X_trains[29], X_trains[30], X_trains[31], X_trains[32], X_trains[33], X_trains[34], X_trains[35], X_trains[36], X_trains[37], X_trains[38], X_trains[39], X_trains[40], X_trains[41], X_trains[42], X_trains[43], X_trains[45], X_trains[46], X_trains[47], X_trains[48], X_trains[49]])\n",
    "X_fold45 = pd.concat([X_trains[0], X_trains[1], X_trains[2], X_trains[3], X_trains[4], X_trains[5], X_trains[6], X_trains[7], X_trains[8], X_trains[9], X_trains[10], X_trains[11], X_trains[12], X_trains[13], X_trains[14], X_trains[15], X_trains[16], X_trains[17], X_trains[18], X_trains[19], X_trains[20], X_trains[21], X_trains[22], X_trains[23], X_trains[24], X_trains[25], X_trains[26], X_trains[27], X_trains[28], X_trains[29], X_trains[30], X_trains[31], X_trains[32], X_trains[33], X_trains[34], X_trains[35], X_trains[36], X_trains[37], X_trains[38], X_trains[39], X_trains[40], X_trains[41], X_trains[42], X_trains[43], X_trains[44], X_trains[46], X_trains[47], X_trains[48], X_trains[49]])\n",
    "X_fold46 = pd.concat([X_trains[0], X_trains[1], X_trains[2], X_trains[3], X_trains[4], X_trains[5], X_trains[6], X_trains[7], X_trains[8], X_trains[9], X_trains[10], X_trains[11], X_trains[12], X_trains[13], X_trains[14], X_trains[15], X_trains[16], X_trains[17], X_trains[18], X_trains[19], X_trains[20], X_trains[21], X_trains[22], X_trains[23], X_trains[24], X_trains[25], X_trains[26], X_trains[27], X_trains[28], X_trains[29], X_trains[30], X_trains[31], X_trains[32], X_trains[33], X_trains[34], X_trains[35], X_trains[36], X_trains[37], X_trains[38], X_trains[39], X_trains[40], X_trains[41], X_trains[42], X_trains[43], X_trains[44], X_trains[45], X_trains[47], X_trains[48], X_trains[49]])\n",
    "X_fold47 = pd.concat([X_trains[0], X_trains[1], X_trains[2], X_trains[3], X_trains[4], X_trains[5], X_trains[6], X_trains[7], X_trains[8], X_trains[9], X_trains[10], X_trains[11], X_trains[12], X_trains[13], X_trains[14], X_trains[15], X_trains[16], X_trains[17], X_trains[18], X_trains[19], X_trains[20], X_trains[21], X_trains[22], X_trains[23], X_trains[24], X_trains[25], X_trains[26], X_trains[27], X_trains[28], X_trains[29], X_trains[30], X_trains[31], X_trains[32], X_trains[33], X_trains[34], X_trains[35], X_trains[36], X_trains[37], X_trains[38], X_trains[39], X_trains[40], X_trains[41], X_trains[42], X_trains[43], X_trains[44], X_trains[45], X_trains[46], X_trains[48], X_trains[49]])\n",
    "X_fold48 = pd.concat([X_trains[0], X_trains[1], X_trains[2], X_trains[3], X_trains[4], X_trains[5], X_trains[6], X_trains[7], X_trains[8], X_trains[9], X_trains[10], X_trains[11], X_trains[12], X_trains[13], X_trains[14], X_trains[15], X_trains[16], X_trains[17], X_trains[18], X_trains[19], X_trains[20], X_trains[21], X_trains[22], X_trains[23], X_trains[24], X_trains[25], X_trains[26], X_trains[27], X_trains[28], X_trains[29], X_trains[30], X_trains[31], X_trains[32], X_trains[33], X_trains[34], X_trains[35], X_trains[36], X_trains[37], X_trains[38], X_trains[39], X_trains[40], X_trains[41], X_trains[42], X_trains[43], X_trains[44], X_trains[45], X_trains[46], X_trains[47], X_trains[49]])\n",
    "X_fold49 = pd.concat([X_trains[0], X_trains[1], X_trains[2], X_trains[3], X_trains[4], X_trains[5], X_trains[6], X_trains[7], X_trains[8], X_trains[9], X_trains[10], X_trains[11], X_trains[12], X_trains[13], X_trains[14], X_trains[15], X_trains[16], X_trains[17], X_trains[18], X_trains[19], X_trains[20], X_trains[21], X_trains[22], X_trains[23], X_trains[24], X_trains[25], X_trains[26], X_trains[27], X_trains[28], X_trains[29], X_trains[30], X_trains[31], X_trains[32], X_trains[33], X_trains[34], X_trains[35], X_trains[36], X_trains[37], X_trains[38], X_trains[39], X_trains[40], X_trains[41], X_trains[42], X_trains[43], X_trains[44], X_trains[45], X_trains[46], X_trains[47], X_trains[48]])"
   ]
  },
  {
   "cell_type": "code",
   "execution_count": 51,
   "metadata": {},
   "outputs": [
    {
     "data": {
      "text/html": [
       "<div>\n",
       "<style scoped>\n",
       "    .dataframe tbody tr th:only-of-type {\n",
       "        vertical-align: middle;\n",
       "    }\n",
       "\n",
       "    .dataframe tbody tr th {\n",
       "        vertical-align: top;\n",
       "    }\n",
       "\n",
       "    .dataframe thead th {\n",
       "        text-align: right;\n",
       "    }\n",
       "</style>\n",
       "<table border=\"1\" class=\"dataframe\">\n",
       "  <thead>\n",
       "    <tr style=\"text-align: right;\">\n",
       "      <th></th>\n",
       "      <th>Number</th>\n",
       "      <th>GAA</th>\n",
       "    </tr>\n",
       "  </thead>\n",
       "  <tbody>\n",
       "    <tr>\n",
       "      <th>1178</th>\n",
       "      <td>1178</td>\n",
       "      <td>2.49</td>\n",
       "    </tr>\n",
       "    <tr>\n",
       "      <th>660</th>\n",
       "      <td>660</td>\n",
       "      <td>3.56</td>\n",
       "    </tr>\n",
       "    <tr>\n",
       "      <th>1083</th>\n",
       "      <td>1083</td>\n",
       "      <td>3.12</td>\n",
       "    </tr>\n",
       "    <tr>\n",
       "      <th>1721</th>\n",
       "      <td>1721</td>\n",
       "      <td>2.62</td>\n",
       "    </tr>\n",
       "    <tr>\n",
       "      <th>1387</th>\n",
       "      <td>1387</td>\n",
       "      <td>2.03</td>\n",
       "    </tr>\n",
       "    <tr>\n",
       "      <th>...</th>\n",
       "      <td>...</td>\n",
       "      <td>...</td>\n",
       "    </tr>\n",
       "    <tr>\n",
       "      <th>1282</th>\n",
       "      <td>1282</td>\n",
       "      <td>2.32</td>\n",
       "    </tr>\n",
       "    <tr>\n",
       "      <th>1143</th>\n",
       "      <td>1143</td>\n",
       "      <td>2.64</td>\n",
       "    </tr>\n",
       "    <tr>\n",
       "      <th>1445</th>\n",
       "      <td>1445</td>\n",
       "      <td>2.66</td>\n",
       "    </tr>\n",
       "    <tr>\n",
       "      <th>73</th>\n",
       "      <td>73</td>\n",
       "      <td>3.47</td>\n",
       "    </tr>\n",
       "    <tr>\n",
       "      <th>1119</th>\n",
       "      <td>1119</td>\n",
       "      <td>3.27</td>\n",
       "    </tr>\n",
       "  </tbody>\n",
       "</table>\n",
       "<p>2204 rows × 2 columns</p>\n",
       "</div>"
      ],
      "text/plain": [
       "      Number   GAA\n",
       "1178    1178  2.49\n",
       "660      660  3.56\n",
       "1083    1083  3.12\n",
       "1721    1721  2.62\n",
       "1387    1387  2.03\n",
       "...      ...   ...\n",
       "1282    1282  2.32\n",
       "1143    1143  2.64\n",
       "1445    1445  2.66\n",
       "73        73  3.47\n",
       "1119    1119  3.27\n",
       "\n",
       "[2204 rows x 2 columns]"
      ]
     },
     "execution_count": 51,
     "metadata": {},
     "output_type": "execute_result"
    }
   ],
   "source": [
    "X_fold0"
   ]
  },
  {
   "cell_type": "code",
   "execution_count": null,
   "metadata": {},
   "outputs": [],
   "source": []
  }
 ],
 "metadata": {
  "kernelspec": {
   "display_name": "Python 3",
   "language": "python",
   "name": "python3"
  },
  "language_info": {
   "codemirror_mode": {
    "name": "ipython",
    "version": 3
   },
   "file_extension": ".py",
   "mimetype": "text/x-python",
   "name": "python",
   "nbconvert_exporter": "python",
   "pygments_lexer": "ipython3",
   "version": "3.8.3"
  }
 },
 "nbformat": 4,
 "nbformat_minor": 4
}
